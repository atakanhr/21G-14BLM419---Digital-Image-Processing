{
 "cells": [
  {
   "cell_type": "code",
   "execution_count": 1,
   "metadata": {},
   "outputs": [],
   "source": [
    "import numpy as np"
   ]
  },
  {
   "cell_type": "code",
   "execution_count": 2,
   "metadata": {},
   "outputs": [],
   "source": [
    "class Perceptron(object):\n",
    "    \"\"\"Implementing Perceptron Network\"\"\"\n",
    "    def __init__(self, input_size, lr = 1, epochs= 10):\n",
    "        self.W = np.zeros(input_size+1)\n",
    "        self.lr = 1\n",
    "        self.epochs = 10\n",
    "    \n",
    "    def activation_fn(self,x):\n",
    "        return 1 if x>0 else 0 \n",
    "    \n",
    "    def predict(self,x):\n",
    "        x = np.insert(x,0,1)\n",
    "        z = self.W.T.dot(x)\n",
    "        a = self.activation_fn(z)\n",
    "        \n",
    "        return a\n",
    "    \n",
    "    def fit(self,X,d):\n",
    "        for _ in range(self.epochs):\n",
    "            for i in range(d.shape[0]):\n",
    "                y = self.predict(X[i])\n",
    "                e = d[i] - y\n",
    "                self.W = self.W + self.lr * e * np.insert(X[i],0,1)"
   ]
  },
  {
   "cell_type": "code",
   "execution_count": 3,
   "metadata": {},
   "outputs": [],
   "source": [
    "X = np.array([[0,0],[0,1],[1,0],[1,1]])\n",
    "d = np.array([0,0,0,1])"
   ]
  },
  {
   "cell_type": "code",
   "execution_count": 4,
   "metadata": {},
   "outputs": [
    {
     "name": "stdout",
     "output_type": "stream",
     "text": [
      "[-2.  2.  1.]\n"
     ]
    }
   ],
   "source": [
    "perceptron = Perceptron(input_size = 2)\n",
    "perceptron.fit(X,d)\n",
    "print(perceptron.W)"
   ]
  },
  {
   "cell_type": "code",
   "execution_count": 5,
   "metadata": {},
   "outputs": [
    {
     "data": {
      "text/plain": [
       "0"
      ]
     },
     "execution_count": 5,
     "metadata": {},
     "output_type": "execute_result"
    }
   ],
   "source": [
    "perceptron.predict(np.asarray([1,0]))"
   ]
  },
  {
   "attachments": {},
   "cell_type": "markdown",
   "metadata": {},
   "source": [
    "# 1-Perceptron Sınıfının methodları\n",
    " - __init__ Yapıcı methottur. Perceptron nesnesi oluşturulurken içerisine 3 değer bekler:\n",
    "     **input_size** : Verinin giriş boyutudur.\n",
    "     **lr** : Öğrenme değeridir.\n",
    "     **epochs** : Kaç kere eğitim yapılacağını söyler.\n",
    "     \n",
    "  \n",
    " - **activation_fn(self,x)** methodu activation_fn fonksiyonu gelen değerin ağırlık ile çıkışı etkilemesi için kullanılır, derin öğrenmede hangi nöronun aktif olacağını söyler, bizim yazdığımız aktivasyon fonksiyonu relu ya tekabül etmekte, başka aktivasyon fonksiyonları bknz. sigmoid, softmax, tanh...\n",
    " - **predict(self,x)**  : Eğitim sonrasında tahmin yapmayı sağlar.\n",
    " - **fit(self,X,d)**  : Eğitim Fonksiyonudur.\n",
    " \n",
    " \n",
    " # 2-\n",
    " ![İmage](0_qdRb80zUpJPtrbRD_.gif)\n",
    " \n",
    "     Bu mimarinin bir sınırlaması, veri noktalarını yalnızca tek bir çizgi ile ayırabilmesidir. Bu talihsiz bir durumdur çünkü XOr girişleri doğrusal olarak ayrılabilir değildir . Bu, özellikle XOr giriş değerlerini bir grafiğe çizerseniz görülür.1 ve 0 tahminlerini tek bir sınıflandırma satırı ile ayırmanın bir yolu yoktur.\n",
    "     \n",
    " \n",
    " \n",
    " # 3- İmza\n",
    "    -İmza işlemi uygulanması için X değerlerine pixel değerlerini vektöre çevirip veririz. y değerlerine ise labelleri tanımlarız.\n",
    " \n",
    " \n",
    " \n",
    " # 4- Hata Hesaplaması\n",
    " ![İmage](rmse.png)\n",
    "     -RMSE tahmin hatalarının (kalıntıların) standart sapmasıdır. Yani, kalıntılar, regresyon hattının veri noktalarından ne kadar uzakta olduğunun bir ölçüsüdür; RMSE ise bu kalıntıların ne kadar yayıldığının bir ölçüsüdür."
   ]
  },
  {
   "cell_type": "code",
   "execution_count": null,
   "metadata": {},
   "outputs": [],
   "source": []
  }
 ],
 "metadata": {
  "kernelspec": {
   "display_name": "Python 3",
   "language": "python",
   "name": "python3"
  },
  "language_info": {
   "codemirror_mode": {
    "name": "ipython",
    "version": 3
   },
   "file_extension": ".py",
   "mimetype": "text/x-python",
   "name": "python",
   "nbconvert_exporter": "python",
   "pygments_lexer": "ipython3",
   "version": "3.8.3"
  }
 },
 "nbformat": 4,
 "nbformat_minor": 4
}
